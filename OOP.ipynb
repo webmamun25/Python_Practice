{
  "nbformat": 4,
  "nbformat_minor": 0,
  "metadata": {
    "colab": {
      "provenance": [],
      "authorship_tag": "ABX9TyOe3kqYlMgbCo6w6SS68PQR",
      "include_colab_link": true
    },
    "kernelspec": {
      "name": "python3",
      "display_name": "Python 3"
    },
    "language_info": {
      "name": "python"
    }
  },
  "cells": [
    {
      "cell_type": "markdown",
      "metadata": {
        "id": "view-in-github",
        "colab_type": "text"
      },
      "source": [
        "<a href=\"https://colab.research.google.com/github/webmamun25/Python_Practice/blob/main/OOP.ipynb\" target=\"_parent\"><img src=\"https://colab.research.google.com/assets/colab-badge.svg\" alt=\"Open In Colab\"/></a>"
      ]
    },
    {
      "cell_type": "code",
      "execution_count": 21,
      "metadata": {
        "colab": {
          "base_uri": "https://localhost:8080/"
        },
        "id": "P59XfAN8_Vp5",
        "outputId": "17701998-fdeb-4c7d-d7d2-35c8bcb6b211"
      },
      "outputs": [
        {
          "output_type": "stream",
          "name": "stdout",
          "text": [
            "A\n",
            "12\n",
            "B\n",
            "13\n",
            "mammal\n",
            "mammal\n",
            "Dog is barking A and species is:mammal\n",
            "Dog species is:mammal\n"
          ]
        }
      ],
      "source": [
        "class Dog():\n",
        "    species=\"mammal\" # class attribute\n",
        "    def __init__(self,name,age):\n",
        "        self.name=name\n",
        "        self.age=age\n",
        "\n",
        "    def speak(self):\n",
        "       print(f\"Dog is barking {self.name} and species is:{self.species}\")\n",
        "\n",
        "    @classmethod\n",
        "    def info(self):\n",
        "      print(f\"Dog species is:{self.species}\")\n",
        "\n",
        "dog1=Dog(\"A\",12)\n",
        "dog2=Dog(\"B\",13)\n",
        "\n",
        "print(dog1.name)\n",
        "print(dog1.age)\n",
        "\n",
        "print(dog2.name)\n",
        "print(dog2.age)\n",
        "print(dog1.species)\n",
        "print(dog2.species)\n",
        "dog1.speak()\n",
        "dog1.info()"
      ]
    },
    {
      "cell_type": "markdown",
      "source": [
        "# Learning:\n",
        "instance method e ami chaile class attribute and instance attribute shob kichu access korthe parbo.\n",
        "\n",
        "Class method e ami instance er kichui add korthe parbona.\n",
        "it shows error like type object 'Dog' has no attribute 'name'"
      ],
      "metadata": {
        "id": "1sO29QFWCXkR"
      }
    },
    {
      "cell_type": "code",
      "source": [],
      "metadata": {
        "id": "V76w6EMWAbEZ"
      },
      "execution_count": 21,
      "outputs": []
    },
    {
      "cell_type": "markdown",
      "metadata": {
        "id": "130e7b8a"
      },
      "source": [
        "<p align=\"center\"><b>Mini Project</b></p>"
      ]
    },
    {
      "cell_type": "markdown",
      "source": [
        "Mini Project\n",
        "\n",
        "*   Inheritance\n",
        "\n",
        "\n",
        "\n"
      ],
      "metadata": {
        "id": "HGx5gZr_JT4V"
      }
    },
    {
      "cell_type": "code",
      "metadata": {
        "id": "69bdd0f6"
      },
      "source": [
        "class Car:\n",
        "    def __init__(self, windows,door,enginetype):\n",
        "        self.windows=windows\n",
        "        self.door=door\n",
        "        self.enginetype=enginetype\n",
        "\n",
        "    def drive(self):\n",
        "        print(f\"The person drives the {self.enginetype} car\")\n",
        "\n",
        "\n",
        ""
      ],
      "execution_count": 22,
      "outputs": []
    },
    {
      "cell_type": "code",
      "source": [
        "class ElectricCar(Car):\n",
        "    def __init__(self, windows,door,enginetype, battery_range):\n",
        "        super().__init__(windows,door,enginetype)\n",
        "        self.battery_range = battery_range\n",
        "\n",
        "    def charge(self):\n",
        "        print(f\" {self.windows} and {self.door} is available. It has a range of {self.battery_range} miles.\")\n",
        "\n",
        "Electric1=ElectricCar(4,4,\"Electric\",100)\n",
        "Electric1.drive()\n",
        "Electric1.charge()"
      ],
      "metadata": {
        "colab": {
          "base_uri": "https://localhost:8080/"
        },
        "id": "kMsyNRmWFIFw",
        "outputId": "7450bb9a-c002-4100-82e7-3cef93c41c16"
      },
      "execution_count": 23,
      "outputs": [
        {
          "output_type": "stream",
          "name": "stdout",
          "text": [
            "The person drives the Electric car\n",
            " 4 and 4 is available. It has a range of 100 miles.\n"
          ]
        }
      ]
    },
    {
      "cell_type": "code",
      "source": [
        "class Abbu:\n",
        "    def __init__(self, name, age, eid_salamy):\n",
        "        self.name = name\n",
        "        self.age = age\n",
        "        self.eid_salamy = eid_salamy\n",
        "\n",
        "\n",
        "class Mama(Abbu):\n",
        "    def __init__(self, name, age, eid_salamy, gift):\n",
        "        super().__init__(name, age, eid_salamy)  # ✅ now eid_salamy exists\n",
        "        self.gift = gift\n",
        "\n",
        "    def total_taka(self):\n",
        "        return self.eid_salamy\n",
        "\n",
        "\n",
        "class Relatives(Mama):\n",
        "    def __init__(self, name, age, eid_salamy, gift):\n",
        "        super().__init__(name, age, eid_salamy, gift)  # ✅ single inheritance chain\n",
        "\n",
        "    def total_takas(self):\n",
        "        return self.eid_salamy + self.gift\n",
        "\n",
        "\n",
        "doa = Relatives(\"doa\", 2, 10000, 20000)\n",
        "print(doa.total_takas())\n"
      ],
      "metadata": {
        "colab": {
          "base_uri": "https://localhost:8080/"
        },
        "id": "wIVvNp-ZGtN7",
        "outputId": "d3bd15f5-f170-4c11-be7d-a5222ae04a23"
      },
      "execution_count": 24,
      "outputs": [
        {
          "output_type": "stream",
          "name": "stdout",
          "text": [
            "30000\n"
          ]
        }
      ]
    },
    {
      "cell_type": "markdown",
      "source": [
        "# Mini Project\n",
        "\n",
        "\n",
        "*   Polymorphism\n",
        "\n",
        "\n"
      ],
      "metadata": {
        "id": "WsLqBLPTKJXo"
      }
    },
    {
      "cell_type": "code",
      "source": [
        "class Animal:\n",
        "  def speak(self):\n",
        "    print(\"Animal is Speaking\")\n",
        "class Cat:\n",
        "  def speak(self):\n",
        "    print(\"Cat is Speaking\")\n",
        "class Dog:\n",
        "  def speak(self):\n",
        "    print(\"Dog is Speaking\")\n",
        "class Lion:\n",
        "  def speak(self):\n",
        "    print(\"Lion is Speaking\")\n",
        "\n",
        "cat1=Cat()\n",
        "dog1=Dog()\n",
        "lion1=Lion()\n",
        "\n",
        "for animal in (cat1,dog1,lion1):\n",
        "  animal.speak()"
      ],
      "metadata": {
        "colab": {
          "base_uri": "https://localhost:8080/"
        },
        "id": "hoYJlG3hKIgu",
        "outputId": "591bba20-d2f9-4bf1-dec0-bfe03819b15c"
      },
      "execution_count": 25,
      "outputs": [
        {
          "output_type": "stream",
          "name": "stdout",
          "text": [
            "Cat is Speaking\n",
            "Dog is Speaking\n",
            "Lion is Speaking\n"
          ]
        }
      ]
    },
    {
      "cell_type": "code",
      "source": [
        "class MyClass:\n",
        "    def __init__(self):\n",
        "        # Public member (accessible from anywhere)\n",
        "        self.public_member = \"I am a public member\"\n",
        "\n",
        "        # Protected member (conventionally indicated by a single underscore, accessible within the class and by subclasses)\n",
        "        self._protected_member = \"I am a protected member\"\n",
        "\n",
        "        # Private member (name mangled, accessible only within the class)\n",
        "        self.__private_member = \"I am a private member\"\n",
        "\n",
        "    def public_method(self):\n",
        "        print(\"This is a public method.\")\n",
        "        print(f\"Accessing public member: {self.public_member}\")\n",
        "        print(f\"Accessing protected member from public method: {self._protected_member}\")\n",
        "        print(f\"Accessing private member from public method: {self.__private_member}\")\n",
        "\n",
        "    def _protected_method(self):\n",
        "        print(\"This is a protected method.\")\n",
        "\n",
        "    def __private_method(self):\n",
        "        print(\"This is a private method.\")\n",
        "\n",
        "# Creating an object of MyClass\n",
        "obj = MyClass()\n",
        "\n",
        "# Accessing public members\n",
        "print(obj.public_member)\n",
        "obj.public_method()\n",
        "\n",
        "# Accessing protected members (by convention, still accessible directly but should be avoided)\n",
        "print(obj._protected_member)\n",
        "obj._protected_method()\n",
        "\n",
        "# Accessing private members (will raise an AttributeError if accessed directly from outside the class)\n",
        "# print(obj.__private_member) # This will raise an error\n",
        "# obj.__private_method() # This will raise an error\n",
        "\n",
        "# Accessing private members using name mangling (not recommended, breaks encapsulation)\n",
        "print(obj._MyClass__private_member)\n",
        "obj._MyClass__private_method()"
      ],
      "metadata": {
        "colab": {
          "base_uri": "https://localhost:8080/"
        },
        "id": "vtMm7JqoLGpI",
        "outputId": "3fa0a28f-30e2-4c3a-b4f5-9583fc076203"
      },
      "execution_count": 26,
      "outputs": [
        {
          "output_type": "stream",
          "name": "stdout",
          "text": [
            "I am a public member\n",
            "This is a public method.\n",
            "Accessing public member: I am a public member\n",
            "Accessing protected member from public method: I am a protected member\n",
            "Accessing private member from public method: I am a private member\n",
            "I am a protected member\n",
            "This is a protected method.\n",
            "I am a private member\n",
            "This is a private method.\n"
          ]
        }
      ]
    },
    {
      "cell_type": "code",
      "source": [
        "class MyClass:\n",
        "    def __init__(self):\n",
        "        self.public_member = \"I am a public member\"\n",
        "        self._protected_member = \"I am a protected member\"\n",
        "        self.__private_member = \"I am a private member\"\n",
        "\n",
        "    def public_method(self):\n",
        "        print(\"This is a public method.\")\n",
        "        print(f\"Accessing public member from public method: {self.public_member}\")\n",
        "        print(f\"Accessing protected member from public method: {self._protected_member}\")\n",
        "        print(f\"Accessing private member from public method: {self.__private_member}\")\n",
        "\n",
        "    def _protected_method(self):\n",
        "        print(\"This is a protected method.\")\n",
        "\n",
        "    def __private_method(self):\n",
        "        print(\"This is a private method.\")\n",
        "\n",
        "# Creating an object of MyClass\n",
        "obj = MyClass()\n",
        "\n",
        "# Accessing public members: Public members can be accessed directly from outside the class.\n",
        "print(\"---Accessing Public Members---\")\n",
        "print(obj.public_member)\n",
        "obj.public_method()\n",
        "\n",
        "# Accessing protected members: Protected members (indicated by a single underscore) can be accessed directly from outside the class,\n",
        "# but by convention, this is discouraged and they are intended for use within the class and its subclasses.\n",
        "print(\"\\n---Accessing Protected Members---\")\n",
        "print(obj._protected_member)\n",
        "obj._protected_method()\n",
        "\n",
        "# Accessing private members: Private members (indicated by a double underscore) are name-mangled by Python,\n",
        "# making them harder to access directly from outside the class. They are primarily intended for internal use within the class.\n",
        "# Attempting to access them directly like obj.__private_member will result in an AttributeError.\n",
        "# However, they can be accessed using name mangling: _ClassName__private_member. This is generally not recommended as it violates encapsulation.\n",
        "print(\"\\n---Attempting to Access Private Members---\")\n",
        "try:\n",
        "    print(obj.__private_member)\n",
        "except AttributeError as e:\n",
        "    print(f\"Cannot access __private_member directly: {e}\")\n",
        "\n",
        "try:\n",
        "    obj.__private_method()\n",
        "except AttributeError as e:\n",
        "    print(f\"Cannot access __private_method directly: {e}\")\n",
        "\n",
        "print(\"\\n---Accessing Private Members using Name Mangling (Not Recommended)---\")\n",
        "print(obj._MyClass__private_member)\n",
        "obj._MyClass__private_method()\n",
        "\n",
        "# Accessing members within the class methods: All members (public, protected, and private) can be accessed directly from within the class's own methods.\n",
        "print(\"\\n---Accessing Members from within Class Methods---\")\n",
        "obj.public_method()"
      ],
      "metadata": {
        "colab": {
          "base_uri": "https://localhost:8080/"
        },
        "id": "7_DL_V4oOufN",
        "outputId": "e7bc41eb-fa6f-4ab5-f65f-7f2f7f4f135f"
      },
      "execution_count": 27,
      "outputs": [
        {
          "output_type": "stream",
          "name": "stdout",
          "text": [
            "---Accessing Public Members---\n",
            "I am a public member\n",
            "This is a public method.\n",
            "Accessing public member from public method: I am a public member\n",
            "Accessing protected member from public method: I am a protected member\n",
            "Accessing private member from public method: I am a private member\n",
            "\n",
            "---Accessing Protected Members---\n",
            "I am a protected member\n",
            "This is a protected method.\n",
            "\n",
            "---Attempting to Access Private Members---\n",
            "Cannot access __private_member directly: 'MyClass' object has no attribute '__private_member'\n",
            "Cannot access __private_method directly: 'MyClass' object has no attribute '__private_method'\n",
            "\n",
            "---Accessing Private Members using Name Mangling (Not Recommended)---\n",
            "I am a private member\n",
            "This is a private method.\n",
            "\n",
            "---Accessing Members from within Class Methods---\n",
            "This is a public method.\n",
            "Accessing public member from public method: I am a public member\n",
            "Accessing protected member from public method: I am a protected member\n",
            "Accessing private member from public method: I am a private member\n"
          ]
        }
      ]
    },
    {
      "cell_type": "code",
      "source": [
        "class ChildClass(MyClass):\n",
        "    def child_method(self):\n",
        "        print(\"\\n---Accessing Protected Members from Child Class---\")\n",
        "        # Accessing protected member from child class\n",
        "        print(f\"Accessing protected member from child method: {self._protected_member}\")\n",
        "        self._protected_method()\n",
        "\n",
        "# Creating an object of ChildClass\n",
        "child_obj = ChildClass()\n",
        "child_obj.child_method()"
      ],
      "metadata": {
        "colab": {
          "base_uri": "https://localhost:8080/"
        },
        "id": "PshlUYjfPmSh",
        "outputId": "d82a99d9-c85d-4f70-b503-c7c55c164a67"
      },
      "execution_count": 28,
      "outputs": [
        {
          "output_type": "stream",
          "name": "stdout",
          "text": [
            "\n",
            "---Accessing Protected Members from Child Class---\n",
            "Accessing protected member from child method: I am a protected member\n",
            "This is a protected method.\n"
          ]
        }
      ]
    },
    {
      "cell_type": "code",
      "source": [
        "class Person:\n",
        "    def __init__(self, name):\n",
        "        self._name = name  # Protected member\n",
        "\n",
        "    # Getter method\n",
        "    def get_name(self):\n",
        "        return self._name\n",
        "\n",
        "    # Setter method\n",
        "    def set_name(self, name):\n",
        "        if isinstance(name, str) and len(name) > 0:\n",
        "            self._name = name\n",
        "        else:\n",
        "            print(\"Name must be a non-empty string.\")\n",
        "\n",
        "# Creating an object\n",
        "person1 = Person(\"Alice\")\n",
        "\n",
        "# Using the getter\n",
        "print(f\"Initial name: {person1.get_name()}\")\n",
        "\n",
        "# Using the setter\n",
        "person1.set_name(\"Bob\")\n",
        "print(f\"Updated name: {person1.get_name()}\")\n",
        "\n",
        "# Attempting to set an invalid name\n",
        "person1.set_name(\"\")\n",
        "person1.set_name(123)"
      ],
      "metadata": {
        "id": "OFLL6Bj2P7RJ"
      },
      "execution_count": null,
      "outputs": []
    },
    {
      "cell_type": "code",
      "source": [
        "from abc import ABC, abstractmethod\n",
        "\n",
        "# Define an abstract base class (ABC) called Vehicle\n",
        "class Vehicle(ABC):\n",
        "    # abstractmethod is a decorator that declares an abstract method.\n",
        "    # Abstract methods must be implemented by any concrete subclass.\n",
        "    # This enforces a contract that all Vehicles must have a drive method.\n",
        "    @abstractmethod\n",
        "    def drive(self):\n",
        "        pass\n",
        "\n",
        "    # Another abstract method, requiring all Vehicle subclasses to have a stop method.\n",
        "    @abstractmethod\n",
        "    def stop(self):\n",
        "        pass\n",
        "\n",
        "# Concrete subclass Car, implementing the abstract methods from Vehicle\n",
        "class Car(Vehicle):\n",
        "    def drive(self):\n",
        "        print(\"Car is driving\")\n",
        "\n",
        "    def stop(self):\n",
        "        print(\"Car is stopping\")\n",
        "\n",
        "# Concrete subclass Motorcycle, implementing the abstract methods from Vehicle\n",
        "class Motorcycle(Vehicle):\n",
        "    def drive(self):\n",
        "        print(\"Motorcycle is driving\")\n",
        "\n",
        "    def stop(self):\n",
        "        print(\"Motorcycle is stopping\")\n",
        "\n",
        "# You cannot instantiate an abstract class directly.\n",
        "# This would raise a TypeError because Vehicle has abstract methods that haven't been implemented.\n",
        "# vehicle = Vehicle()\n",
        "\n",
        "# You can instantiate concrete subclasses that have implemented all abstract methods.\n",
        "car = Car()\n",
        "car.drive()\n",
        "car.stop()\n",
        "\n",
        "motorcycle = Motorcycle()\n",
        "motorcycle.drive()\n",
        "motorcycle.stop()"
      ],
      "metadata": {
        "colab": {
          "base_uri": "https://localhost:8080/"
        },
        "id": "UEvF-VvCRItz",
        "outputId": "5a866e70-a497-47a0-a2d5-9c89e198ef1f"
      },
      "execution_count": 29,
      "outputs": [
        {
          "output_type": "stream",
          "name": "stdout",
          "text": [
            "Car is driving\n",
            "Car is stopping\n",
            "Motorcycle is driving\n",
            "Motorcycle is stopping\n"
          ]
        }
      ]
    },
    {
      "cell_type": "code",
      "source": [
        "class Account:\n",
        "  bank_name=\"My_bank\"\n",
        "  def __init__(self,name,account_no,balance):\n",
        "    self.name=name\n",
        "    self.account_no=account_no\n",
        "    self.__balance=balance # private attribute\n",
        "\n",
        "  def get_balance(self):\n",
        "    return self.__balance\n",
        "\n",
        "  def deposit(self,amount):\n",
        "    self.__balance+=amount\n",
        "    return f\"{amount} is added, new balance is {self.__balance}\"\n",
        "\n",
        "  def withdraw(self,amount):\n",
        "    if self.__balance>=amount:\n",
        "      self.__balance-=amount\n",
        "    else:\n",
        "      print(\"Insufficient balance\")\n",
        "\n",
        "    return f\"{amount} is withdrawn, new balance is {self.__balance}\"\n"
      ],
      "metadata": {
        "id": "iHC8ajVHRShy"
      },
      "execution_count": 30,
      "outputs": []
    },
    {
      "cell_type": "code",
      "source": [
        "from re import A\n",
        "class SavingsAccount(Account):\n",
        "  def __init__(self,name,account_no,balance,interest_rate):\n",
        "    super().__init__(name,account_no,balance)\n",
        "    self.interest_rate=interest_rate\n",
        "\n",
        "\n",
        "  def calculate_interest(self):\n",
        "    return self.get_balance()*self.interest_rate/100\n",
        "\n",
        "\n",
        "class CurrentAccount(Account):\n",
        "  def __init__(self,name,account_no,balance,overdraft_limit):\n",
        "    super().__init__(name,account_no,balance)\n",
        "    self.overdraft_limit=overdraft_limit\n",
        "\n",
        "  def withdraw(self,amount):\n",
        "    if self.get_balance()+self.overdraft_limit>=amount:\n",
        "      self._Account__balance-=amount\n",
        "      return f\"{amount} is withdrawn, new balance is {self.get_balance()}\"\n",
        "    else:\n",
        "      print(\"Insufficient balance\")\n",
        "\n",
        "currentUser=CurrentAccount(\"Rakib\",123,100000,5000)\n",
        "print(currentUser.withdraw(10000))\n",
        "print(currentUser.get_balance())\n",
        "\n",
        "savingUser=SavingsAccount(\"Rakib\",123,100000,5)\n",
        "print(savingUser.calculate_interest())\n",
        "\n",
        "\n",
        "class BankService:\n",
        "  def __init__(self,accounts):\n",
        "    self.accounts=accounts\n",
        "  @abstractmethod\n",
        "  def transaction(self):\n",
        "    pass\n",
        "\n",
        "class Atm(BankService):\n",
        "  def __init__(self,accounts):\n",
        "    super().__init__(accounts)\n",
        "\n",
        "  def transaction(self):\n",
        "    print(\"ATM transaction\")\n",
        "\n",
        "atm=Atm([currentUser,savingUser])\n",
        "atm.transaction()"
      ],
      "metadata": {
        "colab": {
          "base_uri": "https://localhost:8080/"
        },
        "id": "dcBqDZ5KZ8Xe",
        "outputId": "fbe33d18-5f00-479f-f28b-bd80d6a35cba"
      },
      "execution_count": 37,
      "outputs": [
        {
          "output_type": "stream",
          "name": "stdout",
          "text": [
            "10000 is withdrawn, new balance is 90000\n",
            "90000\n",
            "5000.0\n",
            "ATM transaction\n"
          ]
        }
      ]
    },
    {
      "cell_type": "code",
      "source": [],
      "metadata": {
        "id": "xPfgYMKjbnXb"
      },
      "execution_count": null,
      "outputs": []
    }
  ]
}